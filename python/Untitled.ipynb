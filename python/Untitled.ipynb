{
 "cells": [
  {
   "cell_type": "code",
   "execution_count": 1,
   "metadata": {
    "scrolled": true
   },
   "outputs": [
    {
     "name": "stdout",
     "output_type": "stream",
     "text": [
      "['ABT_CLUSTERING', 'ano_patrimonio', 'bens_candidatos']\n"
     ]
    }
   ],
   "source": [
    "import os\n",
    "from sqlalchemy import create_engine\n",
    "import pandas as pd\n",
    "\n",
    "BASE_DIR =  os.path.dirname( os.path.abspath( '.' ) )\n",
    "SQL_DIR = os.path.join( BASE_DIR, \"sql\" ) # hguvibihb\n",
    "DATA_DIR = os.path.join( BASE_DIR, \"data\" )\n",
    "\n",
    "def import_query( path ):\n",
    "    with open( path ,'r' ) as query_file:\n",
    "        query = query_file.read()\n",
    "    return query\n",
    "\n",
    "query_path = os.path.join(SQL_DIR, 'patrimonio_ano.sql')\n",
    "query = import_query( query_path )\n",
    "\n",
    "con = create_engine( 'sqlite:///' + os.path.join( DATA_DIR, 'my_database.db' ) )\n",
    "print(con.table_names())"
   ]
  },
  {
   "cell_type": "code",
   "execution_count": 3,
   "metadata": {},
   "outputs": [],
   "source": [
    "# DADOS DE PATRIMONIO\n",
    "df_patrimonio = pd.read_sql_query( query.format(ano=2018), con )"
   ]
  },
  {
   "cell_type": "code",
   "execution_count": 5,
   "metadata": {},
   "outputs": [],
   "source": [
    "df_candidatos = pd.read_excel( os.path.join(DATA_DIR,'dados_candidatos.xlsx') )"
   ]
  },
  {
   "cell_type": "code",
   "execution_count": 9,
   "metadata": {},
   "outputs": [],
   "source": [
    "df_full = pd.merge( df_candidatos, df_patrimonio,\n",
    "                   how='left',\n",
    "                   left_on=\"numero_sequencial\",\n",
    "                   right_on=\"id_candidato\")"
   ]
  },
  {
   "cell_type": "code",
   "execution_count": 28,
   "metadata": {},
   "outputs": [],
   "source": [
    "mediana_patrimonio = df_full[\"patrimonio_candidato\"].median()"
   ]
  },
  {
   "cell_type": "code",
   "execution_count": 29,
   "metadata": {},
   "outputs": [
    {
     "data": {
      "text/plain": [
       "227498.44"
      ]
     },
     "execution_count": 29,
     "metadata": {},
     "output_type": "execute_result"
    }
   ],
   "source": [
    "mediana_patrimonio"
   ]
  },
  {
   "cell_type": "code",
   "execution_count": 20,
   "metadata": {},
   "outputs": [
    {
     "data": {
      "text/plain": [
       "array(['DEPUTADO ESTADUAL', 'DEPUTADO FEDERAL', 'VICE-GOVERNADOR',\n",
       "       '1o SUPLENTE SENADOR', '2o SUPLENTE SENADOR', 'GOVERNADOR',\n",
       "       'SENADOR', 'PRESIDENTE', 'VICE-PRESIDENTE', 'DEPUTADO DISTRITAL'],\n",
       "      dtype=object)"
      ]
     },
     "execution_count": 20,
     "metadata": {},
     "output_type": "execute_result"
    }
   ],
   "source": [
    "df_full[\"patrimonio_candidato\"] = df_full[\"patrimonio_candidato\"].fillna(mediana_patrimonio)"
   ]
  },
  {
   "cell_type": "code",
   "execution_count": 24,
   "metadata": {},
   "outputs": [
    {
     "data": {
      "text/html": [
       "<div>\n",
       "<style scoped>\n",
       "    .dataframe tbody tr th:only-of-type {\n",
       "        vertical-align: middle;\n",
       "    }\n",
       "\n",
       "    .dataframe tbody tr th {\n",
       "        vertical-align: top;\n",
       "    }\n",
       "\n",
       "    .dataframe thead th {\n",
       "        text-align: right;\n",
       "    }\n",
       "</style>\n",
       "<table border=\"1\" class=\"dataframe\">\n",
       "  <thead>\n",
       "    <tr style=\"text-align: right;\">\n",
       "      <th></th>\n",
       "      <th>numero_sequencial</th>\n",
       "      <th>descricao_cargo</th>\n",
       "      <th>nome_urna</th>\n",
       "      <th>descricao_cor_raca</th>\n",
       "      <th>descricao_estado_civil</th>\n",
       "      <th>descricao_genero</th>\n",
       "      <th>descricao_grau_instrucao</th>\n",
       "      <th>sigla_uf_nascimento</th>\n",
       "      <th>nome_partido</th>\n",
       "      <th>sigla_partido</th>\n",
       "      <th>total_votos_brasil</th>\n",
       "      <th>Unnamed: 11</th>\n",
       "      <th>Unnamed: 12</th>\n",
       "      <th>id_candidato</th>\n",
       "      <th>patrimonio_candidato</th>\n",
       "    </tr>\n",
       "  </thead>\n",
       "  <tbody>\n",
       "    <tr>\n",
       "      <th>3771</th>\n",
       "      <td>280000614517</td>\n",
       "      <td>PRESIDENTE</td>\n",
       "      <td>JAIR BOLSONARO</td>\n",
       "      <td>BRANCA</td>\n",
       "      <td>CASADO(A)</td>\n",
       "      <td>MASCULINO</td>\n",
       "      <td>SUPERIOR COMPLETO</td>\n",
       "      <td>SP</td>\n",
       "      <td>PARTIDO SOCIAL LIBERAL</td>\n",
       "      <td>PSL</td>\n",
       "      <td>48</td>\n",
       "      <td>49277010.0</td>\n",
       "      <td>NaN</td>\n",
       "      <td>2.800006e+11</td>\n",
       "      <td>2286779.48</td>\n",
       "    </tr>\n",
       "    <tr>\n",
       "      <th>5901</th>\n",
       "      <td>70000615008</td>\n",
       "      <td>DEPUTADO DISTRITAL</td>\n",
       "      <td>KELLY BOLSONARO</td>\n",
       "      <td>PARDA</td>\n",
       "      <td>SOLTEIRO(A)</td>\n",
       "      <td>FEMININO</td>\n",
       "      <td>ENSINO MEDIO COMPLETO</td>\n",
       "      <td>DF</td>\n",
       "      <td>PARTIDO REPUBLICANO PROGRESSISTA</td>\n",
       "      <td>PRP</td>\n",
       "      <td>5412</td>\n",
       "      <td>NaN</td>\n",
       "      <td>NaN</td>\n",
       "      <td>NaN</td>\n",
       "      <td>NaN</td>\n",
       "    </tr>\n",
       "    <tr>\n",
       "      <th>16858</th>\n",
       "      <td>190000614721</td>\n",
       "      <td>SENADOR</td>\n",
       "      <td>FLAVIO BOLSONARO</td>\n",
       "      <td>BRANCA</td>\n",
       "      <td>CASADO(A)</td>\n",
       "      <td>MASCULINO</td>\n",
       "      <td>SUPERIOR COMPLETO</td>\n",
       "      <td>RJ</td>\n",
       "      <td>PARTIDO SOCIAL LIBERAL</td>\n",
       "      <td>PSL</td>\n",
       "      <td>15</td>\n",
       "      <td>4380418.0</td>\n",
       "      <td>NaN</td>\n",
       "      <td>1.900006e+11</td>\n",
       "      <td>1741758.15</td>\n",
       "    </tr>\n",
       "    <tr>\n",
       "      <th>17149</th>\n",
       "      <td>190000628543</td>\n",
       "      <td>DEPUTADO FEDERAL</td>\n",
       "      <td>CRISTINA BOLSONARO</td>\n",
       "      <td>BRANCA</td>\n",
       "      <td>DIVORCIADO(A)</td>\n",
       "      <td>FEMININO</td>\n",
       "      <td>SUPERIOR COMPLETO</td>\n",
       "      <td>RJ</td>\n",
       "      <td>PODEMOS</td>\n",
       "      <td>PODE</td>\n",
       "      <td>7</td>\n",
       "      <td>4555.0</td>\n",
       "      <td>NaN</td>\n",
       "      <td>1.900006e+11</td>\n",
       "      <td>842457.07</td>\n",
       "    </tr>\n",
       "    <tr>\n",
       "      <th>21837</th>\n",
       "      <td>230000606193</td>\n",
       "      <td>DEPUTADO FEDERAL</td>\n",
       "      <td>DEILSON BOLSONARO</td>\n",
       "      <td>BRANCA</td>\n",
       "      <td>SOLTEIRO(A)</td>\n",
       "      <td>MASCULINO</td>\n",
       "      <td>ENSINO MEDIO COMPLETO</td>\n",
       "      <td>PA</td>\n",
       "      <td>PARTIDO SOCIAL LIBERAL</td>\n",
       "      <td>PSL</td>\n",
       "      <td>1623</td>\n",
       "      <td>NaN</td>\n",
       "      <td>NaN</td>\n",
       "      <td>2.300006e+11</td>\n",
       "      <td>50000.00</td>\n",
       "    </tr>\n",
       "    <tr>\n",
       "      <th>26431</th>\n",
       "      <td>250000613378</td>\n",
       "      <td>DEPUTADO FEDERAL</td>\n",
       "      <td>EDUARDO BOLSONARO</td>\n",
       "      <td>BRANCA</td>\n",
       "      <td>SOLTEIRO(A)</td>\n",
       "      <td>MASCULINO</td>\n",
       "      <td>SUPERIOR COMPLETO</td>\n",
       "      <td>RJ</td>\n",
       "      <td>PARTIDO SOCIAL LIBERAL</td>\n",
       "      <td>PSL</td>\n",
       "      <td>14</td>\n",
       "      <td>1843735.0</td>\n",
       "      <td>NaN</td>\n",
       "      <td>2.500006e+11</td>\n",
       "      <td>1395109.14</td>\n",
       "    </tr>\n",
       "    <tr>\n",
       "      <th>27218</th>\n",
       "      <td>250000613301</td>\n",
       "      <td>DEPUTADO ESTADUAL</td>\n",
       "      <td>VALERIA BOLSONARO</td>\n",
       "      <td>BRANCA</td>\n",
       "      <td>CASADO(A)</td>\n",
       "      <td>FEMININO</td>\n",
       "      <td>SUPERIOR COMPLETO</td>\n",
       "      <td>SP</td>\n",
       "      <td>PARTIDO SOCIAL LIBERAL</td>\n",
       "      <td>PSL</td>\n",
       "      <td>12</td>\n",
       "      <td>54519.0</td>\n",
       "      <td>NaN</td>\n",
       "      <td>2.500006e+11</td>\n",
       "      <td>17950.12</td>\n",
       "    </tr>\n",
       "  </tbody>\n",
       "</table>\n",
       "</div>"
      ],
      "text/plain": [
       "       numero_sequencial     descricao_cargo           nome_urna  \\\n",
       "3771        280000614517          PRESIDENTE      JAIR BOLSONARO   \n",
       "5901         70000615008  DEPUTADO DISTRITAL     KELLY BOLSONARO   \n",
       "16858       190000614721             SENADOR    FLAVIO BOLSONARO   \n",
       "17149       190000628543    DEPUTADO FEDERAL  CRISTINA BOLSONARO   \n",
       "21837       230000606193    DEPUTADO FEDERAL   DEILSON BOLSONARO   \n",
       "26431       250000613378    DEPUTADO FEDERAL   EDUARDO BOLSONARO   \n",
       "27218       250000613301   DEPUTADO ESTADUAL   VALERIA BOLSONARO   \n",
       "\n",
       "      descricao_cor_raca descricao_estado_civil descricao_genero  \\\n",
       "3771              BRANCA              CASADO(A)        MASCULINO   \n",
       "5901               PARDA            SOLTEIRO(A)         FEMININO   \n",
       "16858             BRANCA              CASADO(A)        MASCULINO   \n",
       "17149             BRANCA          DIVORCIADO(A)         FEMININO   \n",
       "21837             BRANCA            SOLTEIRO(A)        MASCULINO   \n",
       "26431             BRANCA            SOLTEIRO(A)        MASCULINO   \n",
       "27218             BRANCA              CASADO(A)         FEMININO   \n",
       "\n",
       "      descricao_grau_instrucao sigla_uf_nascimento  \\\n",
       "3771         SUPERIOR COMPLETO                  SP   \n",
       "5901     ENSINO MEDIO COMPLETO                  DF   \n",
       "16858        SUPERIOR COMPLETO                  RJ   \n",
       "17149        SUPERIOR COMPLETO                  RJ   \n",
       "21837    ENSINO MEDIO COMPLETO                  PA   \n",
       "26431        SUPERIOR COMPLETO                  RJ   \n",
       "27218        SUPERIOR COMPLETO                  SP   \n",
       "\n",
       "                           nome_partido sigla_partido  total_votos_brasil  \\\n",
       "3771             PARTIDO SOCIAL LIBERAL           PSL                  48   \n",
       "5901   PARTIDO REPUBLICANO PROGRESSISTA           PRP                5412   \n",
       "16858            PARTIDO SOCIAL LIBERAL           PSL                  15   \n",
       "17149                           PODEMOS          PODE                   7   \n",
       "21837            PARTIDO SOCIAL LIBERAL           PSL                1623   \n",
       "26431            PARTIDO SOCIAL LIBERAL           PSL                  14   \n",
       "27218            PARTIDO SOCIAL LIBERAL           PSL                  12   \n",
       "\n",
       "       Unnamed: 11  Unnamed: 12  id_candidato  patrimonio_candidato  \n",
       "3771    49277010.0          NaN  2.800006e+11            2286779.48  \n",
       "5901           NaN          NaN           NaN                   NaN  \n",
       "16858    4380418.0          NaN  1.900006e+11            1741758.15  \n",
       "17149       4555.0          NaN  1.900006e+11             842457.07  \n",
       "21837          NaN          NaN  2.300006e+11              50000.00  \n",
       "26431    1843735.0          NaN  2.500006e+11            1395109.14  \n",
       "27218      54519.0          NaN  2.500006e+11              17950.12  "
      ]
     },
     "execution_count": 24,
     "metadata": {},
     "output_type": "execute_result"
    }
   ],
   "source": [
    "df_full[df_full[\"nome_urna\"].str.contains('BOLSONARO')]"
   ]
  },
  {
   "cell_type": "code",
   "execution_count": 12,
   "metadata": {},
   "outputs": [
    {
     "data": {
      "text/html": [
       "<div>\n",
       "<style scoped>\n",
       "    .dataframe tbody tr th:only-of-type {\n",
       "        vertical-align: middle;\n",
       "    }\n",
       "\n",
       "    .dataframe tbody tr th {\n",
       "        vertical-align: top;\n",
       "    }\n",
       "\n",
       "    .dataframe thead th {\n",
       "        text-align: right;\n",
       "    }\n",
       "</style>\n",
       "<table border=\"1\" class=\"dataframe\">\n",
       "  <thead>\n",
       "    <tr style=\"text-align: right;\">\n",
       "      <th></th>\n",
       "      <th>numero_sequencial</th>\n",
       "      <th>descricao_cargo</th>\n",
       "      <th>nome_urna</th>\n",
       "      <th>descricao_cor_raca</th>\n",
       "      <th>descricao_estado_civil</th>\n",
       "      <th>descricao_genero</th>\n",
       "      <th>descricao_grau_instrucao</th>\n",
       "      <th>sigla_uf_nascimento</th>\n",
       "      <th>nome_partido</th>\n",
       "      <th>sigla_partido</th>\n",
       "      <th>total_votos_brasil</th>\n",
       "      <th>Unnamed: 11</th>\n",
       "      <th>Unnamed: 12</th>\n",
       "      <th>id_candidato</th>\n",
       "      <th>patrimonio_candidato</th>\n",
       "    </tr>\n",
       "  </thead>\n",
       "  <tbody>\n",
       "  </tbody>\n",
       "</table>\n",
       "</div>"
      ],
      "text/plain": [
       "Empty DataFrame\n",
       "Columns: [numero_sequencial, descricao_cargo, nome_urna, descricao_cor_raca, descricao_estado_civil, descricao_genero, descricao_grau_instrucao, sigla_uf_nascimento, nome_partido, sigla_partido, total_votos_brasil, Unnamed: 11, Unnamed: 12, id_candidato, patrimonio_candidato]\n",
       "Index: []"
      ]
     },
     "execution_count": 12,
     "metadata": {},
     "output_type": "execute_result"
    }
   ],
   "source": [
    "df_full[df_full[\"nome_urna\"].str. \"Bolsonaro\"]"
   ]
  }
 ],
 "metadata": {
  "kernelspec": {
   "display_name": "Python [conda env:data-env]",
   "language": "python",
   "name": "conda-env-data-env-py"
  },
  "language_info": {
   "codemirror_mode": {
    "name": "ipython",
    "version": 3
   },
   "file_extension": ".py",
   "mimetype": "text/x-python",
   "name": "python",
   "nbconvert_exporter": "python",
   "pygments_lexer": "ipython3",
   "version": "3.5.5"
  }
 },
 "nbformat": 4,
 "nbformat_minor": 2
}
